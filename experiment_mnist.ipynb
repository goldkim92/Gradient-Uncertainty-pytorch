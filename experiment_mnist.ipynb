{
 "cells": [
  {
   "cell_type": "code",
   "execution_count": 1,
   "metadata": {},
   "outputs": [],
   "source": [
    "import torch\n",
    "import torch.nn as nn\n",
    "import torch.nn.functional as F\n",
    "import torchvision\n",
    "from torchvision.utils import make_grid\n",
    "import torchvision.transforms as transforms\n",
    "from torchvision.utils import make_grid\n",
    "from tensorboardX import SummaryWriter\n",
    "\n",
    "import os\n",
    "import re\n",
    "import warnings\n",
    "import numpy as np\n",
    "import seaborn as sns\n",
    "import matplotlib.pyplot as plt\n",
    "from glob import glob\n",
    "from collections import deque\n",
    "from tqdm import tqdm,tqdm_notebook\n",
    "\n",
    "import util\n",
    "import data\n",
    "\n",
    "warnings.filterwarnings('ignore')\n",
    "\n",
    "sns.set()\n",
    "sns.set_style(\"dark\")\n",
    "sns.set_palette(\"muted\")\n",
    "sns.set_color_codes(\"muted\")\n",
    "\n",
    "# setting\n",
    "os.environ[\"CUDA_DEVICE_ORDER\"]=\"PCI_BUS_ID\"   # see issue #152\n",
    "os.environ[\"CUDA_VISIBLE_DEVICES\"]='0'\n",
    "\n",
    "# Device configuration\n",
    "device = torch.device('cuda' if torch.cuda.is_available() else 'cpu')"
   ]
  },
  {
   "cell_type": "code",
   "execution_count": 2,
   "metadata": {},
   "outputs": [],
   "source": [
    "# Hyper-parameters \n",
    "input_size = 784\n",
    "channels = [1,32,64,64]\n",
    "fc_size = 512\n",
    "num_classes = 10\n",
    "num_epochs = 20\n",
    "batch_size = 200\n",
    "learning_rate = 1e-2\n",
    "\n",
    "# Directory\n",
    "parent_dir = os.path.join('runs','aa')\n",
    "log_dir = os.path.join(parent_dir, 'log')\n",
    "ckpt_dir = os.path.join(parent_dir, 'ckpt')\n",
    "if not os.path.exists(ckpt_dir):\n",
    "    os.makedirs(ckpt_dir)"
   ]
  },
  {
   "cell_type": "code",
   "execution_count": 3,
   "metadata": {},
   "outputs": [
    {
     "name": "stdout",
     "output_type": "stream",
     "text": [
      "File F/Q3Jvc3NvdmVyIEJvbGRPYmxpcXVlLnR0Zg==.png is broken\n",
      "File A/RGVtb2NyYXRpY2FCb2xkT2xkc3R5bGUgQm9sZC50dGY=.png is broken\n"
     ]
    }
   ],
   "source": [
    "train_loader, test_loader = data.mnist_dataset(batch_size)\n",
    "_, test_loader_f = data.fashion_mnist_dataset(batch_size)\n",
    "_, test_loader_not = data.not_mnist_dataset(459)"
   ]
  },
  {
   "cell_type": "code",
   "execution_count": 4,
   "metadata": {},
   "outputs": [],
   "source": [
    "class NeuralNet(nn.Module):\n",
    "    def __init__(self):\n",
    "        super(NeuralNet, self).__init__()\n",
    "        self.conv1 = nn.Conv2d(channels[0], channels[1], 5, padding=2)\n",
    "        self.conv2 = nn.Conv2d(channels[1], channels[2], 5, padding=2)\n",
    "        self.conv3 = nn.Conv2d(channels[2], channels[3], 5, padding=2)\n",
    "        self.fc1 = nn.Linear(channels[3]*4*4, fc_size)\n",
    "        self.fc2 = nn.Linear(fc_size, num_classes)\n",
    "        \n",
    "    def forward(self, x):\n",
    "        x = F.max_pool2d(F.relu(self.conv1(x)), 2)   \n",
    "        x = F.max_pool2d(F.relu(self.conv2(x)), 2)  \n",
    "        x = F.max_pool2d(F.relu(self.conv3(x)), 2)\n",
    "        x = x.view(-1, channels[3]*4*4)\n",
    "        x = F.relu(self.fc1(x))\n",
    "        x = self.fc2(x)\n",
    "        return x"
   ]
  },
  {
   "cell_type": "code",
   "execution_count": 5,
   "metadata": {},
   "outputs": [
    {
     "name": "stdout",
     "output_type": "stream",
     "text": [
      "NeuralNet(\n",
      "  (conv1): Conv2d(1, 32, kernel_size=(5, 5), stride=(1, 1), padding=(2, 2))\n",
      "  (conv2): Conv2d(32, 64, kernel_size=(5, 5), stride=(1, 1), padding=(2, 2))\n",
      "  (conv3): Conv2d(64, 64, kernel_size=(5, 5), stride=(1, 1), padding=(2, 2))\n",
      "  (fc1): Linear(in_features=1024, out_features=512, bias=True)\n",
      "  (fc2): Linear(in_features=512, out_features=10, bias=True)\n",
      ")\n"
     ]
    }
   ],
   "source": [
    "model = NeuralNet().to(device)\n",
    "criterion = nn.CrossEntropyLoss()\n",
    "optimizer = torch.optim.SGD(model.parameters(), lr=learning_rate)\n",
    "\n",
    "total_step = len(train_loader)\n",
    "print(model)"
   ]
  },
  {
   "cell_type": "markdown",
   "metadata": {},
   "source": [
    "## Multi model Evaluation"
   ]
  },
  {
   "cell_type": "code",
   "execution_count": 6,
   "metadata": {},
   "outputs": [],
   "source": [
    "def show(img):\n",
    "    npimg = img.numpy()\n",
    "    plt.imshow(np.transpose(npimg, (1,2,0)), interpolation='nearest')"
   ]
  },
  {
   "cell_type": "code",
   "execution_count": 8,
   "metadata": {},
   "outputs": [],
   "source": [
    "def prob_distribution(images, ckpts):\n",
    "    probability_set = np.zeros([len(ckpts),images.shape[0],num_classes])\n",
    "    for i,ckpt in enumerate(ckpts):\n",
    "        model.load_state_dict(torch.load(ckpt))\n",
    "        model.eval()\n",
    "        padds = torch.zeros([images.shape[0], 1, 32,32])\n",
    "        padds[:,:,2:30,2:30] = images\n",
    "        imagess = padds.to(device)\n",
    "        outputs = model(imagess)\n",
    "        probability_set[i] = F.softmax(outputs,dim=1).cpu().detach().numpy()\n",
    "    return probability_set\n",
    "        \n",
    "#plot\n",
    "def prob_plot(probability_set):\n",
    "    prob_plot_val = probability_set.mean(axis=0)\n",
    "    \n",
    "    sns.set_style(\"darkgrid\")\n",
    "    plt.subplots(5,1,figsize=(10,4))\n",
    "    for i in range(5):\n",
    "        plt.subplot(images.shape[0],1,i+1)\n",
    "        plt.ylim(0,1)\n",
    "        plt.xlabel(\"Categories\")\n",
    "        plt.xticks(range(10), [\"0\", \"1\", \"2\", \"3\", \"4\", \"5\", \"6\", \"7\", \"8\", \"9\"])\n",
    "        plt.ylabel(\"Prob\")\n",
    "        plt.yticks(np.arange(0, 1, 0.2))\n",
    "        plt.bar(np.arange(10),prob_plot_val[i])\n",
    "        "
   ]
  },
  {
   "cell_type": "code",
   "execution_count": 9,
   "metadata": {},
   "outputs": [
    {
     "data": {
      "text/plain": [
       "['runs/aa',\n",
       " 'runs/lr0.01_bs50_th0.333_pow0',\n",
       " 'runs/lr0.01_bs200_th0.333_pow0',\n",
       " 'runs/ours_lr0.01_bs200_th0.333_pow0.0',\n",
       " 'runs/ours_lr0.01_bs200_th0.333_pow-0.25']"
      ]
     },
     "execution_count": 9,
     "metadata": {},
     "output_type": "execute_result"
    }
   ],
   "source": [
    "parent_dir = glob(os.path.join('runs','*'))\n",
    "parent_dir.sort(key=util.natural_keys)\n",
    "parent_dir"
   ]
  },
  {
   "cell_type": "code",
   "execution_count": 10,
   "metadata": {},
   "outputs": [],
   "source": [
    "i=4\n",
    "ckpts = glob(os.path.join(parent_dir[i],'ckpt','*'))\n",
    "# ckpts = glob(os.path.join(ckpt_dir,'*'))\n",
    "ckpts.sort(key=util.natural_keys)"
   ]
  },
  {
   "cell_type": "markdown",
   "metadata": {},
   "source": [
    "### In-Domain Distribution"
   ]
  },
  {
   "cell_type": "code",
   "execution_count": 11,
   "metadata": {},
   "outputs": [
    {
     "name": "stdout",
     "output_type": "stream",
     "text": [
      "tensor([7, 2, 1, 0, 4])\n"
     ]
    },
    {
     "data": {
      "image/png": "[encoded data removed]",
      "text/plain": [
       "<Figure size 432x288 with 1 Axes>"
      ]
     },
     "metadata": {},
     "output_type": "display_data"
    },
    {
     "data": {
      "image/png": "[encoded data removed]",
      "text/plain": [
       "<Figure size 720x288 with 5 Axes>"
      ]
     },
     "metadata": {},
     "output_type": "display_data"
    }
   ],
   "source": [
    "images, labels = iter(test_loader).next()\n",
    "images, labels = images[:5], labels[:5]\n",
    "print(labels)\n",
    "sns.set_style(\"dark\")\n",
    "show(make_grid(images.cpu()))\n",
    "probability_set = prob_distribution(images,ckpts)\n",
    "prob_plot(probability_set)"
   ]
  },
  {
   "cell_type": "markdown",
   "metadata": {},
   "source": [
    "### Out-Domain Distribution - Fashion MNIST"
   ]
  },
  {
   "cell_type": "code",
   "execution_count": 12,
   "metadata": {},
   "outputs": [
    {
     "name": "stdout",
     "output_type": "stream",
     "text": [
      "tensor([3, 6, 7, 2, 7])\n"
     ]
    },
    {
     "data": {
      "image/png": "[encoded data removed]",
      "text/plain": [
       "<Figure size 432x288 with 1 Axes>"
      ]
     },
     "metadata": {},
     "output_type": "display_data"
    },
    {
     "data": {
      "image/png": "[encoded data removed]",
      "text/plain": [
       "<Figure size 720x288 with 5 Axes>"
      ]
     },
     "metadata": {},
     "output_type": "display_data"
    }
   ],
   "source": [
    "images, labels = iter(test_loader_f).next()\n",
    "start=100\n",
    "images, labels = images[start:start+5], labels[start:start+5]\n",
    "print(labels)\n",
    "sns.set_style(\"dark\")\n",
    "show(make_grid(images.cpu()))\n",
    "probability_set = prob_distribution(images,ckpts)\n",
    "prob_plot(probability_set)"
   ]
  },
  {
   "cell_type": "markdown",
   "metadata": {},
   "source": [
    "### Out-Domain Distribution - notMNIST"
   ]
  },
  {
   "cell_type": "code",
   "execution_count": 13,
   "metadata": {},
   "outputs": [
    {
     "name": "stdout",
     "output_type": "stream",
     "text": [
      "tensor([5, 5, 5, 5, 5])\n"
     ]
    },
    {
     "data": {
      "image/png": "[encoded data removed]",
      "text/plain": [
       "<Figure size 432x288 with 1 Axes>"
      ]
     },
     "metadata": {},
     "output_type": "display_data"
    },
    {
     "data": {
      "image/png": "[encoded data removed]",
      "text/plain": [
       "<Figure size 720x288 with 5 Axes>"
      ]
     },
     "metadata": {},
     "output_type": "display_data"
    }
   ],
   "source": [
    "images, labels = iter(test_loader_not).next()\n",
    "start = 120\n",
    "images, labels = images[start:start+5], labels[start:start+5]\n",
    "print(labels)\n",
    "sns.set_style(\"dark\")\n",
    "show(make_grid(images.cpu()))\n",
    "probability_set = prob_distribution(images,ckpts)\n",
    "prob_plot(probability_set)"
   ]
  },
  {
   "cell_type": "markdown",
   "metadata": {},
   "source": [
    "## Quantitative measure for Uncertainty"
   ]
  },
  {
   "cell_type": "markdown",
   "metadata": {},
   "source": [
    "# **MC Dropout**\n",
    "\\begin{align}\n",
    "p(y|x,D) &= \\int{}p(y|x,\\theta)p(\\theta|D)d\\theta \\\\\n",
    "&\\approx \\int{}p(y|x,\\theta)q(\\theta)d\\theta \\\\ \n",
    "&\\approx \\frac{1}{M}\\sum_{m=1}^{M}p(y|x,\\theta_m)\n",
    "\\end{align}\n",
    "\n",
    "inference probability over the class $c$ given model $m$ can be writen as $p(y=c|x,\\theta_m) = p_c^m $"
   ]
  },
  {
   "cell_type": "code",
   "execution_count": 14,
   "metadata": {},
   "outputs": [
    {
     "name": "stdout",
     "output_type": "stream",
     "text": [
      "(47, 459, 10)\n"
     ]
    }
   ],
   "source": [
    "images, labels = iter(test_loader_not).next()\n",
    "probability_set = prob_distribution(images,ckpts)\n",
    "print(probability_set.shape)"
   ]
  },
  {
   "cell_type": "markdown",
   "metadata": {},
   "source": [
    "**Entropy**\n",
    "\\begin{align}\n",
    "\\mathbb{H}\\left[ y|x,D \\right] &= -\\sum_{c}p(y=c|x,D) \\space logp(y=c|x,D) \\\\\n",
    "&= -\\sum_{c} \\big[ \\big( \\frac{1}{M}\\sum_{m}p_c^m \\big) \\space \n",
    "               log \\big( \\frac{1}{M}\\sum_{m}p_c^m \\big) \\big]\n",
    "\\end{align}\n"
   ]
  },
  {
   "cell_type": "code",
   "execution_count": 15,
   "metadata": {},
   "outputs": [
    {
     "name": "stdout",
     "output_type": "stream",
     "text": [
      "1.5006255367642376\n"
     ]
    }
   ],
   "source": [
    "mc = probability_set.mean(axis=0)\n",
    "entropy_per_image = np.sum(-mc*np.log(mc),axis=1)\n",
    "entropy_total = entropy_per_image.mean()\n",
    "print(entropy_total)"
   ]
  },
  {
   "cell_type": "markdown",
   "metadata": {},
   "source": [
    "**BALD** : mutual information between posterior and prediction\n",
    "\n",
    "\\begin{align}\n",
    "\\mathbb{I}\\left[ \\theta, y|x,D \\right] &= \\mathbb{H}\\left[ y|x,D \\right] - \n",
    "                                \\mathbb{E}_{p(\\theta|D)}\\big[ \\mathbb{H} \\left[ y|x,\\theta \\right] \\big] \\\\\n",
    "&= -\\sum_{c} \\big[ \\big( \\frac{1}{M}\\sum_{m=1}^{M}p_c^m \\big) \\space \n",
    "               log \\big( \\frac{1}{M}\\sum_{m=1}^{M}p_c^m \\big) \\big] \n",
    "    + \\frac{1}{M}\\sum_{c}\\sum_{m}p_c^m \\space logp_c^m\n",
    "\\end{align}\n"
   ]
  },
  {
   "cell_type": "code",
   "execution_count": 16,
   "metadata": {},
   "outputs": [
    {
     "name": "stdout",
     "output_type": "stream",
     "text": [
      "1.145060508523633\n"
     ]
    }
   ],
   "source": [
    "latter = np.sum(probability_set*np.log(probability_set),axis=(2,0)) / len(ckpts)\n",
    "bald_per_image = entropy_per_image + latter\n",
    "bald_total = bald_per_image.mean()\n",
    "print(bald_total)"
   ]
  },
  {
   "cell_type": "markdown",
   "metadata": {},
   "source": [
    "**Variation Ratios**\n",
    "\n",
    "\\begin{align}\n",
    "variation\\_ratios(x) &= 1-\\max_{c}p(y=c|x,D) \\\\\n",
    "                    &= 1-\\max_{c} \\big( \\frac{1}{M}\\sum_{m}p_c^m \\big)\n",
    "\\end{align}"
   ]
  },
  {
   "cell_type": "code",
   "execution_count": 17,
   "metadata": {},
   "outputs": [
    {
     "name": "stdout",
     "output_type": "stream",
     "text": [
      "0.578811266010462\n"
     ]
    }
   ],
   "source": [
    "mc = probability_set.mean(axis=0)\n",
    "vr_per_image = 1- mc.max(axis=1)\n",
    "vr_total = vr_per_image.mean()\n",
    "print(vr_total)"
   ]
  },
  {
   "cell_type": "code",
   "execution_count": null,
   "metadata": {},
   "outputs": [],
   "source": []
  }
 ],
 "metadata": {
  "kernelspec": {
   "display_name": "Python 3",
   "language": "python",
   "name": "python3"
  },
  "language_info": {
   "codemirror_mode": {
    "name": "ipython",
    "version": 3
   },
   "file_extension": ".py",
   "mimetype": "text/x-python",
   "name": "python",
   "nbconvert_exporter": "python",
   "pygments_lexer": "ipython3",
   "version": "3.6.8"
  }
 },
 "nbformat": 4,
 "nbformat_minor": 2
}
